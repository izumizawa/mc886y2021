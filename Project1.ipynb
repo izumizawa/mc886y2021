{
  "nbformat": 4,
  "nbformat_minor": 0,
  "metadata": {
    "colab": {
      "name": "Project1.ipynb",
      "provenance": [],
      "collapsed_sections": [],
      "include_colab_link": true
    },
    "kernelspec": {
      "name": "python3",
      "display_name": "Python 3"
    },
    "language_info": {
      "name": "python"
    }
  },
  "cells": [
    {
      "cell_type": "markdown",
      "metadata": {
        "id": "view-in-github",
        "colab_type": "text"
      },
      "source": [
        "<a href=\"https://colab.research.google.com/github/izumizawa/mc886y2021/blob/main/Project1.ipynb\" target=\"_parent\"><img src=\"https://colab.research.google.com/assets/colab-badge.svg\" alt=\"Open In Colab\"/></a>"
      ]
    },
    {
      "cell_type": "markdown",
      "metadata": {
        "id": "31W14MMDxYKB"
      },
      "source": [
        "# Project 1\n",
        "## MC886 A - Machine Learning\n",
        "### Profª Esther Colombini\n",
        "#### First Semester 2021\n",
        "\n",
        "# Group\n",
        "\n",
        "- Mariana Megumi Izumizawa - RA 221859\n",
        "- Matheus Carvalho Hatzlhoffer- RA 222174\n",
        "\n",
        "# Part I - Clustering Methods\n",
        "\n",
        "Implementation of k-means and another unsupervised learning method, in our case it is DBSCAN (Density Based Spatial Clustering of Application with Noise)."
      ]
    },
    {
      "cell_type": "code",
      "metadata": {
        "id": "SCrU1j6Cx4mO"
      },
      "source": [
        "import numpy as np\n",
        "from copy import deepcopy\n",
        "import matplotlib.pyplot as plt\n",
        "import matplotlib.cm as cm\n",
        "import random\n",
        "import math"
      ],
      "execution_count": 1,
      "outputs": []
    },
    {
      "cell_type": "markdown",
      "metadata": {
        "id": "hHM-RRYsS6OZ"
      },
      "source": [
        "## Data splitting in training and test sets\n",
        "Returns first `training set` and then `test set` depending on the percentage in argument."
      ]
    },
    {
      "cell_type": "code",
      "metadata": {
        "id": "nolyzbkBEiKh"
      },
      "source": [
        "def split_data(data, test_percent):\n",
        "  test_numbers = int(round(test_percent*len(data)))\n",
        "  shuffled_data = data[:]\n",
        "  random.shuffle(shuffled_data)\n",
        "  return shuffled_data[test_numbers:], shuffled_data[:test_numbers]"
      ],
      "execution_count": 99,
      "outputs": []
    },
    {
      "cell_type": "markdown",
      "metadata": {
        "id": "-6ZzMLu0tVxe"
      },
      "source": [
        "## Distance calculation"
      ]
    },
    {
      "cell_type": "code",
      "metadata": {
        "id": "pCSFgdgYsVtU"
      },
      "source": [
        "def euclidian_distance(a, b):\n",
        "  return math.sqrt(math.pow(a[0] - b[0], 2) + math.pow(a[1] - b[1], 2))"
      ],
      "execution_count": 93,
      "outputs": []
    },
    {
      "cell_type": "markdown",
      "metadata": {
        "id": "gpJLlgH8dW2Y"
      },
      "source": [
        "## Pre-processing data\n",
        "\n",
        "Data normalization using the following formula:\n",
        "\n",
        "![Formula](https://miro.medium.com/max/341/0*oRhJXkyKqqYp8--e.)"
      ]
    },
    {
      "cell_type": "code",
      "metadata": {
        "id": "mtKiKqOBxM5f"
      },
      "source": [
        "def normalization(data):\n",
        "  max_x = np.max(data, axis=0)[0]\n",
        "  min_x = np.min(data, axis=0)[0]\n",
        "  max_y = np.max(data, axis=0)[1]\n",
        "  min_y = np.min(data, axis=0)[1]\n",
        "  for x in data:\n",
        "    x[0] = (x[0] - min_x)/(max_x - min_x)\n",
        "    x[1] = (x[1] - min_y)/(max_y - min_y)"
      ],
      "execution_count": 11,
      "outputs": []
    },
    {
      "cell_type": "markdown",
      "metadata": {
        "id": "Od8lckjtd6wL"
      },
      "source": [
        "### K-means implementation"
      ]
    },
    {
      "cell_type": "code",
      "metadata": {
        "id": "4VFT107itVQI"
      },
      "source": [
        "def k_means(k, data):\n",
        "  centers = np.array(random.sample(list(data), k))\n",
        "  old_centers = np.zeros(centers.shape)\n",
        "  clusters = []\n",
        "\n",
        "  for i in range(k):\n",
        "    clusters.append([])\n",
        "\n",
        "  while not (np.array_equal(old_centers, centers)):\n",
        "    for i in range(k):\n",
        "      clusters[i] = []\n",
        "    old_centers = deepcopy(centers)\n",
        "    for i in range(len(data)):\n",
        "      winner_distance = math.sqrt(math.pow(np.max(data, axis=0)[0], 2) + math.pow(np.max(data, axis=0)[1], 2))\n",
        "      winner_cluster = 0\n",
        "      for j in range(len(centers)):\n",
        "        distance = euclidian_distance(centers[j], data[i])\n",
        "        if (distance < winner_distance):\n",
        "          winner_distance = distance\n",
        "          winner_cluster = j\n",
        "      clusters[winner_cluster].append(list(data[i].astype(float)))\n",
        "\n",
        "    for i in range(k):\n",
        "      center_x = np.mean([x[0] for x in clusters[i]])\n",
        "      center_y = np.mean([x[1] for x in clusters[i]])\n",
        "      centers[i] = [center_x, center_y]\n",
        "\n",
        "  return centers, clusters"
      ],
      "execution_count": 94,
      "outputs": []
    },
    {
      "cell_type": "markdown",
      "metadata": {
        "id": "ffYBKNwoTeZ4"
      },
      "source": [
        "## Show clusters with different colors"
      ]
    },
    {
      "cell_type": "code",
      "metadata": {
        "id": "hJ-669VPfzpe"
      },
      "source": [
        "def print_clusters(centers, clusters):\n",
        "  clusters = np.array(clusters, dtype=object)\n",
        "  for i in range(len(clusters)):\n",
        "    clusters[i] = np.array(clusters[i])\n",
        "\n",
        "  colors = cm.rainbow(np.linspace(0, 1, len(clusters)))\n",
        "  for y, c in zip(clusters, colors):\n",
        "      plt.scatter(y[:,0], y[:,1], color=c)\n",
        "\n",
        "  plt.scatter(centers[:,0], centers[:,1], c='black')\n",
        "  plt.grid()\n",
        "  plt.title(\"Clustered with k-means\")\n",
        "  plt.show()"
      ],
      "execution_count": 139,
      "outputs": []
    },
    {
      "cell_type": "markdown",
      "metadata": {
        "id": "VJ2nYyyiTrlM"
      },
      "source": [
        "## Apply functions with given dataset (`cluster.dat`)"
      ]
    },
    {
      "cell_type": "code",
      "metadata": {
        "colab": {
          "resources": {
            "http://localhost:8080/nbextensions/google.colab/files.js": {
              "data": "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",
              "ok": true,
              "headers": [
                [
                  "content-type",
                  "application/javascript"
                ]
              ],
              "status": 200,
              "status_text": ""
            }
          },
          "base_uri": "https://localhost:8080/",
          "height": 75
        },
        "id": "ByjyF8XfvBAm",
        "outputId": "6345d127-35f7-4831-add6-a89271097a07"
      },
      "source": [
        "from google.colab import files\n",
        "uploaded = files.upload()"
      ],
      "execution_count": 2,
      "outputs": [
        {
          "output_type": "display_data",
          "data": {
            "text/html": [
              "\n",
              "     <input type=\"file\" id=\"files-fd422db0-b86e-4938-afaf-a9d1961f2435\" name=\"files[]\" multiple disabled\n",
              "        style=\"border:none\" />\n",
              "     <output id=\"result-fd422db0-b86e-4938-afaf-a9d1961f2435\">\n",
              "      Upload widget is only available when the cell has been executed in the\n",
              "      current browser session. Please rerun this cell to enable.\n",
              "      </output>\n",
              "      <script src=\"/nbextensions/google.colab/files.js\"></script> "
            ],
            "text/plain": [
              "<IPython.core.display.HTML object>"
            ]
          },
          "metadata": {
            "tags": []
          }
        },
        {
          "output_type": "stream",
          "text": [
            "Saving cluster.dat to cluster.dat\n"
          ],
          "name": "stdout"
        }
      ]
    },
    {
      "cell_type": "code",
      "metadata": {
        "id": "ImOw-NQFBeAg"
      },
      "source": [
        "string_data = ([np.array(x.split(\" \")) for x in uploaded['cluster.dat'].decode(\"utf-8\").split('\\n')])\n",
        "# Cleaning data\n",
        "string_data = string_data[:-1]\n",
        "data = np.array([x.astype(float) for x in string_data])"
      ],
      "execution_count": 102,
      "outputs": []
    },
    {
      "cell_type": "code",
      "metadata": {
        "colab": {
          "base_uri": "https://localhost:8080/",
          "height": 285
        },
        "id": "xVyCv3ZMC3CU",
        "outputId": "b84ba1d9-77fc-4edf-abf3-bcb75dbed901"
      },
      "source": [
        "plt.scatter(data[:,0], data[:,1])"
      ],
      "execution_count": 103,
      "outputs": [
        {
          "output_type": "execute_result",
          "data": {
            "text/plain": [
              "<matplotlib.collections.PathCollection at 0x7fd99454b9d0>"
            ]
          },
          "metadata": {
            "tags": []
          },
          "execution_count": 103
        },
        {
          "output_type": "display_data",
          "data": {
            "image/png": "[encoded data removed]",
            "text/plain": [
              "<Figure size 432x288 with 1 Axes>"
            ]
          },
          "metadata": {
            "tags": [],
            "needs_background": "light"
          }
        }
      ]
    },
    {
      "cell_type": "code",
      "metadata": {
        "colab": {
          "base_uri": "https://localhost:8080/",
          "height": 281
        },
        "id": "7Sa2QJNzDPCY",
        "outputId": "8a6de561-d3d9-4378-ebfc-9fa7a679e7cb"
      },
      "source": [
        "training_set, test_set = split_data(data, 0.1)\n",
        "normalization(training_set)\n",
        "centers, clusters = k_means(3, training_set)\n",
        "print_clusters(centers, clusters)"
      ],
      "execution_count": 140,
      "outputs": [
        {
          "output_type": "display_data",
          "data": {
            "image/png": "[encoded data removed]",
            "text/plain": [
              "<Figure size 432x288 with 1 Axes>"
            ]
          },
          "metadata": {
            "tags": [],
            "needs_background": "light"
          }
        }
      ]
    },
    {
      "cell_type": "code",
      "metadata": {
        "colab": {
          "base_uri": "https://localhost:8080/",
          "height": 265
        },
        "id": "bKgiB7USJ2kU",
        "outputId": "7a28e40f-e01f-42fa-fc63-9f22625414fa"
      },
      "source": [
        "eps = 0.5\n",
        "min_points = 4\n",
        "# normalization(data)\n",
        "\n",
        "cluster_id = 0\n",
        "clusters = [-1]*len(data)\n",
        "distances = []\n",
        "for i in range(len(data)):\n",
        "  if(clusters[i] == -1):\n",
        "    neighbor_count = 0\n",
        "    neighbors = []\n",
        "    for j in range(len(data)):\n",
        "      dist = euclidian_distance(data[j], data[i])\n",
        "      distances.append(dist)\n",
        "      if (dist <= eps):\n",
        "        neighbor_count += 1\n",
        "        neighbors.append(j)\n",
        "    if (neighbor_count >= min_points):\n",
        "      for x in neighbors:\n",
        "        if (clusters[x] == -1):\n",
        "          clusters[x] = cluster_id\n",
        "    cluster_id += 1\n",
        "\n",
        "if(cluster_id != 0):\n",
        "  for i in range(len(data)):\n",
        "    colors = cm.nipy_spectral(np.array(clusters).astype(float) / cluster_id)\n",
        "    plt.scatter(data[:,0], data[:,1], color=colors, s=10)\n",
        "plt.grid()\n",
        "plt.show()\n",
        "\n"
      ],
      "execution_count": 130,
      "outputs": [
        {
          "output_type": "display_data",
          "data": {
            "image/png": "[encoded data removed]",
            "text/plain": [
              "<Figure size 432x288 with 1 Axes>"
            ]
          },
          "metadata": {
            "tags": [],
            "needs_background": "light"
          }
        }
      ]
    },
    {
      "cell_type": "code",
      "metadata": {
        "colab": {
          "base_uri": "https://localhost:8080/",
          "height": 265
        },
        "id": "vEVLqhSweAfr",
        "outputId": "9966fbd5-af9c-41fb-b49e-f8839a457838"
      },
      "source": [
        "eps = 0.4\n",
        "min_points = 5\n",
        "normalization(data)\n",
        "\n",
        "cluster_id = 2\n",
        "clusters = [1]*len(data)\n",
        "distances = []\n",
        "shuffle_index = np.arange(len(data))\n",
        "np.random.shuffle(shuffle_index)\n",
        "\n",
        "for i in shuffle_index:\n",
        "  if(clusters[i] == 1):\n",
        "    neighbor_count = 0\n",
        "    neighbors = []\n",
        "    for j in range(len(data)):\n",
        "      dist = euclidian_distance(data[j], data[i])\n",
        "      distances.append(dist)\n",
        "      if (dist <= eps):\n",
        "        neighbor_count += 1\n",
        "        neighbors.append(j)\n",
        "    if (neighbor_count >= min_points):\n",
        "      for x in neighbors:\n",
        "        if (clusters[x] == 1):\n",
        "          clusters[x] = cluster_id\n",
        "      cluster_id += 1\n",
        "\n",
        "if(cluster_id != 2):\n",
        "  for i in range(len(data)):\n",
        "    colors = cm.nipy_spectral(np.array(clusters).astype(float) / (cluster_id-1))\n",
        "    plt.scatter(data[:,0], data[:,1], color=colors, s=10)\n",
        "plt.grid()\n",
        "plt.show()"
      ],
      "execution_count": 87,
      "outputs": [
        {
          "output_type": "display_data",
          "data": {
            "image/png": "[encoded data removed]",
            "text/plain": [
              "<Figure size 432x288 with 1 Axes>"
            ]
          },
          "metadata": {
            "tags": [],
            "needs_background": "light"
          }
        }
      ]
    },
    {
      "cell_type": "code",
      "metadata": {
        "colab": {
          "base_uri": "https://localhost:8080/",
          "height": 295
        },
        "id": "bO-FRncouLZh",
        "outputId": "c9a7ea08-1c05-4524-c767-61171f10546c"
      },
      "source": [
        "k = 3\n",
        "def k_nearest_neighbor(k, data):\n",
        "  k_distances = []\n",
        "  for i in range(len(data)):\n",
        "    point_distances = []\n",
        "    for j in range(len(data)):\n",
        "      distance = euclidian_distance(data[i], data[j])\n",
        "      point_distances.append(distance)\n",
        "    point_distances.sort()\n",
        "    k_distances.append(point_distances[k-1]) # K neighbor\n",
        "  k_distances.sort(reverse = True)\n",
        "  x = [y+1 for y in range(len(data))]\n",
        "  plt.bar(x, k_distances)\n",
        "  plt.title(\"k-dist\")\n",
        "  plt.xlabel(\"sorted data points\")\n",
        "  plt.ylabel(\"KNN distance\")\n",
        "  plt.show()\n",
        "\n",
        "k_nearest_neighbor(3, data)"
      ],
      "execution_count": 138,
      "outputs": [
        {
          "output_type": "display_data",
          "data": {
            "image/png": "[encoded data removed]",
            "text/plain": [
              "<Figure size 432x288 with 1 Axes>"
            ]
          },
          "metadata": {
            "tags": [],
            "needs_background": "light"
          }
        }
      ]
    }
  ]
}